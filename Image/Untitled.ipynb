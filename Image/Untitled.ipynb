{
 "cells": [
  {
   "cell_type": "code",
   "execution_count": 8,
   "id": "b7ce4d07",
   "metadata": {},
   "outputs": [
    {
     "name": "stdout",
     "output_type": "stream",
     "text": [
      "0\n",
      "30\n",
      "90\n",
      "180\n",
      "300\n",
      "450\n",
      "630\n",
      "840\n",
      "1080\n",
      "1350\n",
      "1650\n",
      "1980\n",
      "2340\n",
      "2730\n",
      "3150\n",
      "3600\n",
      "4080\n",
      "4590\n",
      "5130\n",
      "5700\n"
     ]
    }
   ],
   "source": [
    "d = {}\n",
    "s = 0\n",
    "for i in range(0, 600,30):\n",
    "    s = s+i\n",
    "#     print(i)\n",
    "    if(i==i):\n",
    "        print(s)"
   ]
  },
  {
   "cell_type": "code",
   "execution_count": null,
   "id": "7f59bf5b",
   "metadata": {},
   "outputs": [],
   "source": []
  }
 ],
 "metadata": {
  "kernelspec": {
   "display_name": "Python 3 (ipykernel)",
   "language": "python",
   "name": "python3"
  },
  "language_info": {
   "codemirror_mode": {
    "name": "ipython",
    "version": 3
   },
   "file_extension": ".py",
   "mimetype": "text/x-python",
   "name": "python",
   "nbconvert_exporter": "python",
   "pygments_lexer": "ipython3",
   "version": "3.10.5"
  }
 },
 "nbformat": 4,
 "nbformat_minor": 5
}
